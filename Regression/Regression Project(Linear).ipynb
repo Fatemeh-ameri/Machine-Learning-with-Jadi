{
 "cells": [
  {
   "cell_type": "code",
   "execution_count": 1,
   "metadata": {},
   "outputs": [],
   "source": [
    "#import requirement libraries\n",
    "\n",
    "import numpy as np\n",
    "import pandas as pd\n",
    "import matplotlib.pyplot as plt\n",
    "from sklearn import linear_model\n",
    "from sklearn.metrics import r2_score\n"
   ]
  },
  {
   "cell_type": "code",
   "execution_count": 2,
   "metadata": {},
   "outputs": [],
   "source": [
    "# load data\n",
    "\n",
    "data = \"./DataSets/1632300362534233.csv\"\n",
    "df = pd.read_csv(data)"
   ]
  },
  {
   "cell_type": "code",
   "execution_count": 3,
   "metadata": {},
   "outputs": [
    {
     "data": {
      "text/html": [
       "<div>\n",
       "<style scoped>\n",
       "    .dataframe tbody tr th:only-of-type {\n",
       "        vertical-align: middle;\n",
       "    }\n",
       "\n",
       "    .dataframe tbody tr th {\n",
       "        vertical-align: top;\n",
       "    }\n",
       "\n",
       "    .dataframe thead th {\n",
       "        text-align: right;\n",
       "    }\n",
       "</style>\n",
       "<table border=\"1\" class=\"dataframe\">\n",
       "  <thead>\n",
       "    <tr style=\"text-align: right;\">\n",
       "      <th></th>\n",
       "      <th>Area</th>\n",
       "      <th>Room</th>\n",
       "      <th>Parking</th>\n",
       "      <th>Warehouse</th>\n",
       "      <th>Elevator</th>\n",
       "      <th>Address</th>\n",
       "      <th>Price</th>\n",
       "      <th>Price(USD)</th>\n",
       "    </tr>\n",
       "  </thead>\n",
       "  <tbody>\n",
       "    <tr>\n",
       "      <th>0</th>\n",
       "      <td>63</td>\n",
       "      <td>1</td>\n",
       "      <td>True</td>\n",
       "      <td>True</td>\n",
       "      <td>True</td>\n",
       "      <td>Shahran</td>\n",
       "      <td>1.850000e+09</td>\n",
       "      <td>61666.67</td>\n",
       "    </tr>\n",
       "    <tr>\n",
       "      <th>1</th>\n",
       "      <td>60</td>\n",
       "      <td>1</td>\n",
       "      <td>True</td>\n",
       "      <td>True</td>\n",
       "      <td>True</td>\n",
       "      <td>Shahran</td>\n",
       "      <td>1.850000e+09</td>\n",
       "      <td>61666.67</td>\n",
       "    </tr>\n",
       "    <tr>\n",
       "      <th>2</th>\n",
       "      <td>79</td>\n",
       "      <td>2</td>\n",
       "      <td>True</td>\n",
       "      <td>True</td>\n",
       "      <td>True</td>\n",
       "      <td>Pardis</td>\n",
       "      <td>5.500000e+08</td>\n",
       "      <td>18333.33</td>\n",
       "    </tr>\n",
       "    <tr>\n",
       "      <th>3</th>\n",
       "      <td>95</td>\n",
       "      <td>2</td>\n",
       "      <td>True</td>\n",
       "      <td>True</td>\n",
       "      <td>True</td>\n",
       "      <td>Shahrake Qods</td>\n",
       "      <td>9.025000e+08</td>\n",
       "      <td>30083.33</td>\n",
       "    </tr>\n",
       "    <tr>\n",
       "      <th>4</th>\n",
       "      <td>123</td>\n",
       "      <td>2</td>\n",
       "      <td>True</td>\n",
       "      <td>True</td>\n",
       "      <td>True</td>\n",
       "      <td>Shahrake Gharb</td>\n",
       "      <td>7.000000e+09</td>\n",
       "      <td>233333.33</td>\n",
       "    </tr>\n",
       "  </tbody>\n",
       "</table>\n",
       "</div>"
      ],
      "text/plain": [
       "  Area  Room  Parking  Warehouse  Elevator         Address         Price  \\\n",
       "0   63     1     True       True      True         Shahran  1.850000e+09   \n",
       "1   60     1     True       True      True         Shahran  1.850000e+09   \n",
       "2   79     2     True       True      True          Pardis  5.500000e+08   \n",
       "3   95     2     True       True      True   Shahrake Qods  9.025000e+08   \n",
       "4  123     2     True       True      True  Shahrake Gharb  7.000000e+09   \n",
       "\n",
       "   Price(USD)  \n",
       "0    61666.67  \n",
       "1    61666.67  \n",
       "2    18333.33  \n",
       "3    30083.33  \n",
       "4   233333.33  "
      ]
     },
     "execution_count": 3,
     "metadata": {},
     "output_type": "execute_result"
    }
   ],
   "source": [
    "#first view of data\n",
    "\n",
    "df.head()"
   ]
  },
  {
   "cell_type": "code",
   "execution_count": 4,
   "metadata": {},
   "outputs": [
    {
     "data": {
      "text/html": [
       "<div>\n",
       "<style scoped>\n",
       "    .dataframe tbody tr th:only-of-type {\n",
       "        vertical-align: middle;\n",
       "    }\n",
       "\n",
       "    .dataframe tbody tr th {\n",
       "        vertical-align: top;\n",
       "    }\n",
       "\n",
       "    .dataframe thead th {\n",
       "        text-align: right;\n",
       "    }\n",
       "</style>\n",
       "<table border=\"1\" class=\"dataframe\">\n",
       "  <thead>\n",
       "    <tr style=\"text-align: right;\">\n",
       "      <th></th>\n",
       "      <th>Area</th>\n",
       "      <th>Room</th>\n",
       "      <th>Parking</th>\n",
       "      <th>Warehouse</th>\n",
       "      <th>Elevator</th>\n",
       "      <th>Address</th>\n",
       "      <th>Price</th>\n",
       "      <th>Price(USD)</th>\n",
       "    </tr>\n",
       "  </thead>\n",
       "  <tbody>\n",
       "    <tr>\n",
       "      <th>980</th>\n",
       "      <td>140</td>\n",
       "      <td>3</td>\n",
       "      <td>True</td>\n",
       "      <td>True</td>\n",
       "      <td>True</td>\n",
       "      <td>Punak</td>\n",
       "      <td>6.200000e+09</td>\n",
       "      <td>206666.67</td>\n",
       "    </tr>\n",
       "    <tr>\n",
       "      <th>2180</th>\n",
       "      <td>57</td>\n",
       "      <td>1</td>\n",
       "      <td>True</td>\n",
       "      <td>True</td>\n",
       "      <td>False</td>\n",
       "      <td>Feiz Garden</td>\n",
       "      <td>1.930000e+09</td>\n",
       "      <td>64333.33</td>\n",
       "    </tr>\n",
       "    <tr>\n",
       "      <th>731</th>\n",
       "      <td>75</td>\n",
       "      <td>2</td>\n",
       "      <td>True</td>\n",
       "      <td>True</td>\n",
       "      <td>True</td>\n",
       "      <td>Pardis</td>\n",
       "      <td>6.000000e+07</td>\n",
       "      <td>2000.00</td>\n",
       "    </tr>\n",
       "    <tr>\n",
       "      <th>121</th>\n",
       "      <td>139</td>\n",
       "      <td>3</td>\n",
       "      <td>True</td>\n",
       "      <td>True</td>\n",
       "      <td>True</td>\n",
       "      <td>Gisha</td>\n",
       "      <td>7.300000e+09</td>\n",
       "      <td>243333.33</td>\n",
       "    </tr>\n",
       "    <tr>\n",
       "      <th>1297</th>\n",
       "      <td>87</td>\n",
       "      <td>2</td>\n",
       "      <td>True</td>\n",
       "      <td>True</td>\n",
       "      <td>True</td>\n",
       "      <td>Niavaran</td>\n",
       "      <td>4.600000e+09</td>\n",
       "      <td>153333.33</td>\n",
       "    </tr>\n",
       "  </tbody>\n",
       "</table>\n",
       "</div>"
      ],
      "text/plain": [
       "     Area  Room  Parking  Warehouse  Elevator      Address         Price  \\\n",
       "980   140     3     True       True      True        Punak  6.200000e+09   \n",
       "2180   57     1     True       True     False  Feiz Garden  1.930000e+09   \n",
       "731    75     2     True       True      True       Pardis  6.000000e+07   \n",
       "121   139     3     True       True      True        Gisha  7.300000e+09   \n",
       "1297   87     2     True       True      True     Niavaran  4.600000e+09   \n",
       "\n",
       "      Price(USD)  \n",
       "980    206666.67  \n",
       "2180    64333.33  \n",
       "731      2000.00  \n",
       "121    243333.33  \n",
       "1297   153333.33  "
      ]
     },
     "execution_count": 4,
     "metadata": {},
     "output_type": "execute_result"
    }
   ],
   "source": [
    "#second view of data randomly\n",
    "\n",
    "df.sample(5)"
   ]
  },
  {
   "cell_type": "code",
   "execution_count": 5,
   "metadata": {},
   "outputs": [
    {
     "data": {
      "text/html": [
       "<div>\n",
       "<style scoped>\n",
       "    .dataframe tbody tr th:only-of-type {\n",
       "        vertical-align: middle;\n",
       "    }\n",
       "\n",
       "    .dataframe tbody tr th {\n",
       "        vertical-align: top;\n",
       "    }\n",
       "\n",
       "    .dataframe thead th {\n",
       "        text-align: right;\n",
       "    }\n",
       "</style>\n",
       "<table border=\"1\" class=\"dataframe\">\n",
       "  <thead>\n",
       "    <tr style=\"text-align: right;\">\n",
       "      <th></th>\n",
       "      <th>Room</th>\n",
       "      <th>Price</th>\n",
       "      <th>Price(USD)</th>\n",
       "    </tr>\n",
       "  </thead>\n",
       "  <tbody>\n",
       "    <tr>\n",
       "      <th>count</th>\n",
       "      <td>3479.000000</td>\n",
       "      <td>3.479000e+03</td>\n",
       "      <td>3.479000e+03</td>\n",
       "    </tr>\n",
       "    <tr>\n",
       "      <th>mean</th>\n",
       "      <td>2.079908</td>\n",
       "      <td>5.359023e+09</td>\n",
       "      <td>1.786341e+05</td>\n",
       "    </tr>\n",
       "    <tr>\n",
       "      <th>std</th>\n",
       "      <td>0.758275</td>\n",
       "      <td>8.099935e+09</td>\n",
       "      <td>2.699978e+05</td>\n",
       "    </tr>\n",
       "    <tr>\n",
       "      <th>min</th>\n",
       "      <td>0.000000</td>\n",
       "      <td>3.600000e+06</td>\n",
       "      <td>1.200000e+02</td>\n",
       "    </tr>\n",
       "    <tr>\n",
       "      <th>25%</th>\n",
       "      <td>2.000000</td>\n",
       "      <td>1.418250e+09</td>\n",
       "      <td>4.727500e+04</td>\n",
       "    </tr>\n",
       "    <tr>\n",
       "      <th>50%</th>\n",
       "      <td>2.000000</td>\n",
       "      <td>2.900000e+09</td>\n",
       "      <td>9.666667e+04</td>\n",
       "    </tr>\n",
       "    <tr>\n",
       "      <th>75%</th>\n",
       "      <td>2.000000</td>\n",
       "      <td>6.000000e+09</td>\n",
       "      <td>2.000000e+05</td>\n",
       "    </tr>\n",
       "    <tr>\n",
       "      <th>max</th>\n",
       "      <td>5.000000</td>\n",
       "      <td>9.240000e+10</td>\n",
       "      <td>3.080000e+06</td>\n",
       "    </tr>\n",
       "  </tbody>\n",
       "</table>\n",
       "</div>"
      ],
      "text/plain": [
       "              Room         Price    Price(USD)\n",
       "count  3479.000000  3.479000e+03  3.479000e+03\n",
       "mean      2.079908  5.359023e+09  1.786341e+05\n",
       "std       0.758275  8.099935e+09  2.699978e+05\n",
       "min       0.000000  3.600000e+06  1.200000e+02\n",
       "25%       2.000000  1.418250e+09  4.727500e+04\n",
       "50%       2.000000  2.900000e+09  9.666667e+04\n",
       "75%       2.000000  6.000000e+09  2.000000e+05\n",
       "max       5.000000  9.240000e+10  3.080000e+06"
      ]
     },
     "execution_count": 5,
     "metadata": {},
     "output_type": "execute_result"
    }
   ],
   "source": [
    "#statistical explain of data\n",
    "\n",
    "df.describe()"
   ]
  },
  {
   "cell_type": "code",
   "execution_count": 6,
   "metadata": {},
   "outputs": [
    {
     "name": "stdout",
     "output_type": "stream",
     "text": [
      "<class 'pandas.core.frame.DataFrame'>\n",
      "RangeIndex: 3479 entries, 0 to 3478\n",
      "Data columns (total 8 columns):\n",
      " #   Column      Non-Null Count  Dtype  \n",
      "---  ------      --------------  -----  \n",
      " 0   Area        3479 non-null   object \n",
      " 1   Room        3479 non-null   int64  \n",
      " 2   Parking     3479 non-null   bool   \n",
      " 3   Warehouse   3479 non-null   bool   \n",
      " 4   Elevator    3479 non-null   bool   \n",
      " 5   Address     3456 non-null   object \n",
      " 6   Price       3479 non-null   float64\n",
      " 7   Price(USD)  3479 non-null   float64\n",
      "dtypes: bool(3), float64(2), int64(1), object(2)\n",
      "memory usage: 146.2+ KB\n"
     ]
    }
   ],
   "source": [
    "#imformation about type of features and number of rows and columns\n",
    "\n",
    "df.info()"
   ]
  },
  {
   "cell_type": "code",
   "execution_count": 7,
   "metadata": {},
   "outputs": [
    {
     "name": "stdout",
     "output_type": "stream",
     "text": [
      "Shape of dataset after drop NaN values: (3450, 8)\n",
      "Number of rows that deleted: 29\n"
     ]
    }
   ],
   "source": [
    "#Area type change and drop nan values in all df2\n",
    "\n",
    "df2 = df.copy()\n",
    "df2['Area'] = pd.to_numeric(df2['Area'], errors='coerce')\n",
    "df2.dropna(inplace = True)\n",
    "df2.reset_index(drop = True, inplace = True)\n",
    "print(f\"Shape of dataset after drop NaN values: {df2.shape}\")\n",
    "print(f\"Number of rows that deleted: {len(df) - len(df2)}\")"
   ]
  },
  {
   "cell_type": "code",
   "execution_count": 8,
   "metadata": {},
   "outputs": [
    {
     "name": "stdout",
     "output_type": "stream",
     "text": [
      "<class 'pandas.core.frame.DataFrame'>\n",
      "RangeIndex: 3450 entries, 0 to 3449\n",
      "Data columns (total 8 columns):\n",
      " #   Column      Non-Null Count  Dtype  \n",
      "---  ------      --------------  -----  \n",
      " 0   Area        3450 non-null   float64\n",
      " 1   Room        3450 non-null   int64  \n",
      " 2   Parking     3450 non-null   bool   \n",
      " 3   Warehouse   3450 non-null   bool   \n",
      " 4   Elevator    3450 non-null   bool   \n",
      " 5   Address     3450 non-null   object \n",
      " 6   Price       3450 non-null   float64\n",
      " 7   Price(USD)  3450 non-null   float64\n",
      "dtypes: bool(3), float64(3), int64(1), object(1)\n",
      "memory usage: 145.0+ KB\n"
     ]
    }
   ],
   "source": [
    "#check for changing Area type\n",
    "\n",
    "df2.info()"
   ]
  },
  {
   "cell_type": "code",
   "execution_count": 9,
   "metadata": {},
   "outputs": [
    {
     "data": {
      "text/plain": [
       "Area          0\n",
       "Room          0\n",
       "Parking       0\n",
       "Warehouse     0\n",
       "Elevator      0\n",
       "Address       0\n",
       "Price         0\n",
       "Price(USD)    0\n",
       "dtype: int64"
      ]
     },
     "execution_count": 9,
     "metadata": {},
     "output_type": "execute_result"
    }
   ],
   "source": [
    "#check for nan values\n",
    "\n",
    "df2.isnull().sum()"
   ]
  },
  {
   "cell_type": "code",
   "execution_count": 10,
   "metadata": {},
   "outputs": [
    {
     "data": {
      "text/html": [
       "<div>\n",
       "<style scoped>\n",
       "    .dataframe tbody tr th:only-of-type {\n",
       "        vertical-align: middle;\n",
       "    }\n",
       "\n",
       "    .dataframe tbody tr th {\n",
       "        vertical-align: top;\n",
       "    }\n",
       "\n",
       "    .dataframe thead th {\n",
       "        text-align: right;\n",
       "    }\n",
       "</style>\n",
       "<table border=\"1\" class=\"dataframe\">\n",
       "  <thead>\n",
       "    <tr style=\"text-align: right;\">\n",
       "      <th></th>\n",
       "      <th>Area</th>\n",
       "      <th>Room</th>\n",
       "      <th>Parking</th>\n",
       "      <th>Warehouse</th>\n",
       "      <th>Elevator</th>\n",
       "      <th>Address</th>\n",
       "      <th>Price</th>\n",
       "    </tr>\n",
       "  </thead>\n",
       "  <tbody>\n",
       "    <tr>\n",
       "      <th>0</th>\n",
       "      <td>63.0</td>\n",
       "      <td>1</td>\n",
       "      <td>1</td>\n",
       "      <td>1</td>\n",
       "      <td>1</td>\n",
       "      <td>Shahran</td>\n",
       "      <td>1.850000e+09</td>\n",
       "    </tr>\n",
       "    <tr>\n",
       "      <th>1</th>\n",
       "      <td>60.0</td>\n",
       "      <td>1</td>\n",
       "      <td>1</td>\n",
       "      <td>1</td>\n",
       "      <td>1</td>\n",
       "      <td>Shahran</td>\n",
       "      <td>1.850000e+09</td>\n",
       "    </tr>\n",
       "    <tr>\n",
       "      <th>2</th>\n",
       "      <td>79.0</td>\n",
       "      <td>2</td>\n",
       "      <td>1</td>\n",
       "      <td>1</td>\n",
       "      <td>1</td>\n",
       "      <td>Pardis</td>\n",
       "      <td>5.500000e+08</td>\n",
       "    </tr>\n",
       "    <tr>\n",
       "      <th>3</th>\n",
       "      <td>95.0</td>\n",
       "      <td>2</td>\n",
       "      <td>1</td>\n",
       "      <td>1</td>\n",
       "      <td>1</td>\n",
       "      <td>Shahrake Qods</td>\n",
       "      <td>9.025000e+08</td>\n",
       "    </tr>\n",
       "    <tr>\n",
       "      <th>4</th>\n",
       "      <td>123.0</td>\n",
       "      <td>2</td>\n",
       "      <td>1</td>\n",
       "      <td>1</td>\n",
       "      <td>1</td>\n",
       "      <td>Shahrake Gharb</td>\n",
       "      <td>7.000000e+09</td>\n",
       "    </tr>\n",
       "  </tbody>\n",
       "</table>\n",
       "</div>"
      ],
      "text/plain": [
       "    Area  Room  Parking  Warehouse  Elevator         Address         Price\n",
       "0   63.0     1        1          1         1         Shahran  1.850000e+09\n",
       "1   60.0     1        1          1         1         Shahran  1.850000e+09\n",
       "2   79.0     2        1          1         1          Pardis  5.500000e+08\n",
       "3   95.0     2        1          1         1   Shahrake Qods  9.025000e+08\n",
       "4  123.0     2        1          1         1  Shahrake Gharb  7.000000e+09"
      ]
     },
     "execution_count": 10,
     "metadata": {},
     "output_type": "execute_result"
    }
   ],
   "source": [
    "#delete unnececery columns and change type of boolean features\n",
    "\n",
    "df3 = df2.drop(columns = ['Price(USD)'])\n",
    "boolean_features = ['Parking','Warehouse','Elevator']\n",
    "df3[boolean_features] = df3[boolean_features].astype('int64')\n",
    "\n",
    "df3.head()"
   ]
  },
  {
   "cell_type": "code",
   "execution_count": 11,
   "metadata": {},
   "outputs": [
    {
     "name": "stdout",
     "output_type": "stream",
     "text": [
      "<class 'pandas.core.frame.DataFrame'>\n",
      "RangeIndex: 3450 entries, 0 to 3449\n",
      "Data columns (total 7 columns):\n",
      " #   Column     Non-Null Count  Dtype  \n",
      "---  ------     --------------  -----  \n",
      " 0   Area       3450 non-null   float64\n",
      " 1   Room       3450 non-null   int64  \n",
      " 2   Parking    3450 non-null   int64  \n",
      " 3   Warehouse  3450 non-null   int64  \n",
      " 4   Elevator   3450 non-null   int64  \n",
      " 5   Address    3450 non-null   object \n",
      " 6   Price      3450 non-null   float64\n",
      "dtypes: float64(2), int64(4), object(1)\n",
      "memory usage: 188.8+ KB\n"
     ]
    }
   ],
   "source": [
    "#check for changing types\n",
    "\n",
    "df3.info()"
   ]
  },
  {
   "cell_type": "code",
   "execution_count": 12,
   "metadata": {},
   "outputs": [
    {
     "data": {
      "text/html": [
       "<div>\n",
       "<style scoped>\n",
       "    .dataframe tbody tr th:only-of-type {\n",
       "        vertical-align: middle;\n",
       "    }\n",
       "\n",
       "    .dataframe tbody tr th {\n",
       "        vertical-align: top;\n",
       "    }\n",
       "\n",
       "    .dataframe thead th {\n",
       "        text-align: right;\n",
       "    }\n",
       "</style>\n",
       "<table border=\"1\" class=\"dataframe\">\n",
       "  <thead>\n",
       "    <tr style=\"text-align: right;\">\n",
       "      <th></th>\n",
       "      <th>Area</th>\n",
       "      <th>Room</th>\n",
       "      <th>Parking</th>\n",
       "      <th>Warehouse</th>\n",
       "      <th>Elevator</th>\n",
       "      <th>Price</th>\n",
       "    </tr>\n",
       "  </thead>\n",
       "  <tbody>\n",
       "    <tr>\n",
       "      <th>count</th>\n",
       "      <td>3450.000000</td>\n",
       "      <td>3450.000000</td>\n",
       "      <td>3450.000000</td>\n",
       "      <td>3450.000000</td>\n",
       "      <td>3450.000000</td>\n",
       "      <td>3.450000e+03</td>\n",
       "    </tr>\n",
       "    <tr>\n",
       "      <th>mean</th>\n",
       "      <td>106.917391</td>\n",
       "      <td>2.081159</td>\n",
       "      <td>0.847536</td>\n",
       "      <td>0.915072</td>\n",
       "      <td>0.787536</td>\n",
       "      <td>5.375563e+09</td>\n",
       "    </tr>\n",
       "    <tr>\n",
       "      <th>std</th>\n",
       "      <td>69.550976</td>\n",
       "      <td>0.760216</td>\n",
       "      <td>0.359522</td>\n",
       "      <td>0.278814</td>\n",
       "      <td>0.409111</td>\n",
       "      <td>8.125918e+09</td>\n",
       "    </tr>\n",
       "    <tr>\n",
       "      <th>min</th>\n",
       "      <td>30.000000</td>\n",
       "      <td>0.000000</td>\n",
       "      <td>0.000000</td>\n",
       "      <td>0.000000</td>\n",
       "      <td>0.000000</td>\n",
       "      <td>3.600000e+06</td>\n",
       "    </tr>\n",
       "    <tr>\n",
       "      <th>25%</th>\n",
       "      <td>69.000000</td>\n",
       "      <td>2.000000</td>\n",
       "      <td>1.000000</td>\n",
       "      <td>1.000000</td>\n",
       "      <td>1.000000</td>\n",
       "      <td>1.419250e+09</td>\n",
       "    </tr>\n",
       "    <tr>\n",
       "      <th>50%</th>\n",
       "      <td>90.000000</td>\n",
       "      <td>2.000000</td>\n",
       "      <td>1.000000</td>\n",
       "      <td>1.000000</td>\n",
       "      <td>1.000000</td>\n",
       "      <td>2.900000e+09</td>\n",
       "    </tr>\n",
       "    <tr>\n",
       "      <th>75%</th>\n",
       "      <td>120.000000</td>\n",
       "      <td>2.000000</td>\n",
       "      <td>1.000000</td>\n",
       "      <td>1.000000</td>\n",
       "      <td>1.000000</td>\n",
       "      <td>6.000000e+09</td>\n",
       "    </tr>\n",
       "    <tr>\n",
       "      <th>max</th>\n",
       "      <td>929.000000</td>\n",
       "      <td>5.000000</td>\n",
       "      <td>1.000000</td>\n",
       "      <td>1.000000</td>\n",
       "      <td>1.000000</td>\n",
       "      <td>9.240000e+10</td>\n",
       "    </tr>\n",
       "  </tbody>\n",
       "</table>\n",
       "</div>"
      ],
      "text/plain": [
       "              Area         Room      Parking    Warehouse     Elevator  \\\n",
       "count  3450.000000  3450.000000  3450.000000  3450.000000  3450.000000   \n",
       "mean    106.917391     2.081159     0.847536     0.915072     0.787536   \n",
       "std      69.550976     0.760216     0.359522     0.278814     0.409111   \n",
       "min      30.000000     0.000000     0.000000     0.000000     0.000000   \n",
       "25%      69.000000     2.000000     1.000000     1.000000     1.000000   \n",
       "50%      90.000000     2.000000     1.000000     1.000000     1.000000   \n",
       "75%     120.000000     2.000000     1.000000     1.000000     1.000000   \n",
       "max     929.000000     5.000000     1.000000     1.000000     1.000000   \n",
       "\n",
       "              Price  \n",
       "count  3.450000e+03  \n",
       "mean   5.375563e+09  \n",
       "std    8.125918e+09  \n",
       "min    3.600000e+06  \n",
       "25%    1.419250e+09  \n",
       "50%    2.900000e+09  \n",
       "75%    6.000000e+09  \n",
       "max    9.240000e+10  "
      ]
     },
     "execution_count": 12,
     "metadata": {},
     "output_type": "execute_result"
    }
   ],
   "source": [
    "df3.describe()"
   ]
  },
  {
   "cell_type": "code",
   "execution_count": 13,
   "metadata": {},
   "outputs": [
    {
     "name": "stdout",
     "output_type": "stream",
     "text": [
      "Area         4.488354\n",
      "Room         0.623884\n",
      "Parking     -1.934446\n",
      "Warehouse   -2.979139\n",
      "Elevator    -1.406481\n",
      "Price        4.766985\n",
      "dtype: float64\n"
     ]
    },
    {
     "name": "stderr",
     "output_type": "stream",
     "text": [
      "C:\\Users\\Fatemeh\\AppData\\Local\\Temp\\ipykernel_1464\\4168344255.py:1: FutureWarning: The default value of numeric_only in DataFrame.skew is deprecated. In a future version, it will default to False. In addition, specifying 'numeric_only=None' is deprecated. Select only valid columns or specify the value of numeric_only to silence this warning.\n",
      "  print(df3.skew())\n"
     ]
    }
   ],
   "source": [
    "print(df3.skew())"
   ]
  },
  {
   "cell_type": "code",
   "execution_count": 14,
   "metadata": {},
   "outputs": [
    {
     "name": "stdout",
     "output_type": "stream",
     "text": [
      "Lower limit for area: -7.50\n",
      "Upper limit for area: 196.50\n",
      "Lower limit for price: -5,451,875,000.0\n",
      "Upper limit for price: 12,871,125,000.0\n"
     ]
    }
   ],
   "source": [
    "def lower_upper(x):\n",
    "    Q1 = np.percentile(x, 25)\n",
    "    Q3 = np.percentile(x, 75)\n",
    "    IQR = Q3 - Q1\n",
    "    lower = Q1 - 1.5 * IQR\n",
    "    upper = Q3 + 1.5 * IQR\n",
    "    \n",
    "    return lower, upper\n",
    "\n",
    "lower_area, upper_area = lower_upper(df3['Area'])\n",
    "lower_price, upper_price = lower_upper(df3['Price'])\n",
    "\n",
    "print(f\"Lower limit for area: {lower_area:0.2f}\")\n",
    "print(f\"Upper limit for area: {upper_area:0.2f}\")\n",
    "print(f\"Lower limit for price: {lower_price:,}\")\n",
    "print(f\"Upper limit for price: {upper_price:,}\")"
   ]
  },
  {
   "cell_type": "code",
   "execution_count": 15,
   "metadata": {},
   "outputs": [
    {
     "name": "stdout",
     "output_type": "stream",
     "text": [
      "Number of area outliers: 238\n",
      "Number of price outliers: 309\n",
      "Number of outliers: 361\n"
     ]
    }
   ],
   "source": [
    "area_outliers = np.where(df3['Area'] > upper_area)\n",
    "price_outliers = np.where(df3['Price'] > upper_price)\n",
    "total_outliers = np.union1d(area_outliers, price_outliers)\n",
    "\n",
    "print(f\"Number of area outliers: {len(df3.iloc[area_outliers])}\")\n",
    "print(f\"Number of price outliers: {len(df3.iloc[price_outliers])}\")\n",
    "print(f\"Number of outliers: {len(df3.iloc[total_outliers])}\")"
   ]
  },
  {
   "cell_type": "code",
   "execution_count": 16,
   "metadata": {},
   "outputs": [
    {
     "name": "stdout",
     "output_type": "stream",
     "text": [
      "Shape of new dataset: (3089, 7)\n"
     ]
    }
   ],
   "source": [
    "df4 = df3.copy()\n",
    "df4.drop(total_outliers, inplace = True)\n",
    "df4.reset_index(drop = True, inplace = True)\n",
    "print(f\"Shape of new dataset: {df4.shape}\")"
   ]
  },
  {
   "cell_type": "code",
   "execution_count": 17,
   "metadata": {},
   "outputs": [
    {
     "name": "stdout",
     "output_type": "stream",
     "text": [
      "Area         0.672756\n",
      "Room         0.163801\n",
      "Parking     -1.798618\n",
      "Warehouse   -2.901748\n",
      "Elevator    -1.393130\n",
      "Price        1.285909\n",
      "dtype: float64\n"
     ]
    },
    {
     "name": "stderr",
     "output_type": "stream",
     "text": [
      "C:\\Users\\Fatemeh\\AppData\\Local\\Temp\\ipykernel_1464\\1018510483.py:1: FutureWarning: The default value of numeric_only in DataFrame.skew is deprecated. In a future version, it will default to False. In addition, specifying 'numeric_only=None' is deprecated. Select only valid columns or specify the value of numeric_only to silence this warning.\n",
      "  print(df4.skew())\n"
     ]
    }
   ],
   "source": [
    "print(df4.skew())"
   ]
  },
  {
   "cell_type": "code",
   "execution_count": 18,
   "metadata": {},
   "outputs": [
    {
     "data": {
      "text/html": [
       "<div>\n",
       "<style scoped>\n",
       "    .dataframe tbody tr th:only-of-type {\n",
       "        vertical-align: middle;\n",
       "    }\n",
       "\n",
       "    .dataframe tbody tr th {\n",
       "        vertical-align: top;\n",
       "    }\n",
       "\n",
       "    .dataframe thead th {\n",
       "        text-align: right;\n",
       "    }\n",
       "</style>\n",
       "<table border=\"1\" class=\"dataframe\">\n",
       "  <thead>\n",
       "    <tr style=\"text-align: right;\">\n",
       "      <th></th>\n",
       "      <th>Area</th>\n",
       "      <th>Room</th>\n",
       "      <th>Parking</th>\n",
       "      <th>Warehouse</th>\n",
       "      <th>Elevator</th>\n",
       "      <th>Price</th>\n",
       "      <th>Abazar</th>\n",
       "      <th>Abbasabad</th>\n",
       "      <th>Abuzar</th>\n",
       "      <th>Afsarieh</th>\n",
       "      <th>...</th>\n",
       "      <th>Waterfall</th>\n",
       "      <th>West Ferdows Boulevard</th>\n",
       "      <th>West Pars</th>\n",
       "      <th>Yaftabad</th>\n",
       "      <th>Yakhchiabad</th>\n",
       "      <th>Yousef Abad</th>\n",
       "      <th>Zafar</th>\n",
       "      <th>Zaferanieh</th>\n",
       "      <th>Zargandeh</th>\n",
       "      <th>Zibadasht</th>\n",
       "    </tr>\n",
       "  </thead>\n",
       "  <tbody>\n",
       "    <tr>\n",
       "      <th>0</th>\n",
       "      <td>63.0</td>\n",
       "      <td>1</td>\n",
       "      <td>1</td>\n",
       "      <td>1</td>\n",
       "      <td>1</td>\n",
       "      <td>1.850000e+09</td>\n",
       "      <td>0</td>\n",
       "      <td>0</td>\n",
       "      <td>0</td>\n",
       "      <td>0</td>\n",
       "      <td>...</td>\n",
       "      <td>0</td>\n",
       "      <td>0</td>\n",
       "      <td>0</td>\n",
       "      <td>0</td>\n",
       "      <td>0</td>\n",
       "      <td>0</td>\n",
       "      <td>0</td>\n",
       "      <td>0</td>\n",
       "      <td>0</td>\n",
       "      <td>0</td>\n",
       "    </tr>\n",
       "    <tr>\n",
       "      <th>1</th>\n",
       "      <td>60.0</td>\n",
       "      <td>1</td>\n",
       "      <td>1</td>\n",
       "      <td>1</td>\n",
       "      <td>1</td>\n",
       "      <td>1.850000e+09</td>\n",
       "      <td>0</td>\n",
       "      <td>0</td>\n",
       "      <td>0</td>\n",
       "      <td>0</td>\n",
       "      <td>...</td>\n",
       "      <td>0</td>\n",
       "      <td>0</td>\n",
       "      <td>0</td>\n",
       "      <td>0</td>\n",
       "      <td>0</td>\n",
       "      <td>0</td>\n",
       "      <td>0</td>\n",
       "      <td>0</td>\n",
       "      <td>0</td>\n",
       "      <td>0</td>\n",
       "    </tr>\n",
       "    <tr>\n",
       "      <th>2</th>\n",
       "      <td>79.0</td>\n",
       "      <td>2</td>\n",
       "      <td>1</td>\n",
       "      <td>1</td>\n",
       "      <td>1</td>\n",
       "      <td>5.500000e+08</td>\n",
       "      <td>0</td>\n",
       "      <td>0</td>\n",
       "      <td>0</td>\n",
       "      <td>0</td>\n",
       "      <td>...</td>\n",
       "      <td>0</td>\n",
       "      <td>0</td>\n",
       "      <td>0</td>\n",
       "      <td>0</td>\n",
       "      <td>0</td>\n",
       "      <td>0</td>\n",
       "      <td>0</td>\n",
       "      <td>0</td>\n",
       "      <td>0</td>\n",
       "      <td>0</td>\n",
       "    </tr>\n",
       "  </tbody>\n",
       "</table>\n",
       "<p>3 rows × 193 columns</p>\n",
       "</div>"
      ],
      "text/plain": [
       "   Area  Room  Parking  Warehouse  Elevator         Price  Abazar  Abbasabad  \\\n",
       "0  63.0     1        1          1         1  1.850000e+09       0          0   \n",
       "1  60.0     1        1          1         1  1.850000e+09       0          0   \n",
       "2  79.0     2        1          1         1  5.500000e+08       0          0   \n",
       "\n",
       "   Abuzar  Afsarieh  ...  Waterfall  West Ferdows Boulevard  West Pars  \\\n",
       "0       0         0  ...          0                       0          0   \n",
       "1       0         0  ...          0                       0          0   \n",
       "2       0         0  ...          0                       0          0   \n",
       "\n",
       "   Yaftabad  Yakhchiabad  Yousef Abad  Zafar  Zaferanieh  Zargandeh  Zibadasht  \n",
       "0         0            0            0      0           0          0          0  \n",
       "1         0            0            0      0           0          0          0  \n",
       "2         0            0            0      0           0          0          0  \n",
       "\n",
       "[3 rows x 193 columns]"
      ]
     },
     "execution_count": 18,
     "metadata": {},
     "output_type": "execute_result"
    }
   ],
   "source": [
    "addres_dummy = pd.get_dummies(df4['Address'])\n",
    "housePrice = df4.merge(addres_dummy, left_index = True, right_index = True)\n",
    "housePrice.drop(columns = 'Address', inplace = True)\n",
    "housePrice.head(3)"
   ]
  },
  {
   "cell_type": "code",
   "execution_count": 19,
   "metadata": {},
   "outputs": [
    {
     "data": {
      "text/plain": [
       "<matplotlib.collections.PathCollection at 0x1ac3deb5350>"
      ]
     },
     "execution_count": 19,
     "metadata": {},
     "output_type": "execute_result"
    },
    {
     "data": {
      "image/png": "[encoded data removed]",
      "text/plain": [
       "<Figure size 640x480 with 1 Axes>"
      ]
     },
     "metadata": {},
     "output_type": "display_data"
    }
   ],
   "source": [
    "plt.scatter(housePrice.Area, housePrice.Price, color = 'red')"
   ]
  },
  {
   "cell_type": "code",
   "execution_count": 20,
   "metadata": {},
   "outputs": [],
   "source": [
    "mask = np.random.rand(len(housePrice)) < 0.8\n",
    "train = housePrice[mask]\n",
    "test = housePrice[~mask]"
   ]
  },
  {
   "cell_type": "code",
   "execution_count": 21,
   "metadata": {},
   "outputs": [
    {
     "data": {
      "image/png": "[encoded data removed]",
      "text/plain": [
       "<Figure size 640x480 with 1 Axes>"
      ]
     },
     "metadata": {},
     "output_type": "display_data"
    }
   ],
   "source": [
    "fig = plt.figure()\n",
    "ax = fig.add_subplot(111)\n",
    "ax.scatter(train.Area, train.Price, color = 'red')\n",
    "ax.scatter(test.Area, test.Price, color = 'green')\n",
    "plt.xlabel(\"Area\")\n",
    "plt.ylabel(\"Price\")\n",
    "plt.show()"
   ]
  },
  {
   "cell_type": "code",
   "execution_count": 22,
   "metadata": {},
   "outputs": [
    {
     "name": "stdout",
     "output_type": "stream",
     "text": [
      "Coefficients:  [[64915914.49331053]]\n",
      "Intercept:  [-2.43638327e+09]\n"
     ]
    }
   ],
   "source": [
    "reg = linear_model.LinearRegression()\n",
    "train_x = np.asanyarray(train[['Area']])\n",
    "train_y = np.asanyarray(train[['Price']])\n",
    "reg.fit(train_x, train_y)\n",
    "\n",
    "print(\"Coefficients: \", reg.coef_)\n",
    "print(\"Intercept: \", reg.intercept_)"
   ]
  },
  {
   "cell_type": "code",
   "execution_count": 23,
   "metadata": {},
   "outputs": [
    {
     "data": {
      "text/plain": [
       "Text(0, 0.5, 'Price')"
      ]
     },
     "execution_count": 23,
     "metadata": {},
     "output_type": "execute_result"
    },
    {
     "data": {
      "image/png": "[encoded data removed]",
      "text/plain": [
       "<Figure size 640x480 with 1 Axes>"
      ]
     },
     "metadata": {},
     "output_type": "display_data"
    }
   ],
   "source": [
    "plt.scatter(train.Area, train.Price, color = 'blue')\n",
    "plt.plot(train_x, reg.coef_[0][0] * train_x + reg.intercept_[0], '-r')\n",
    "plt.xlabel(\"Area\")\n",
    "plt.ylabel(\"Price\")"
   ]
  },
  {
   "cell_type": "code",
   "execution_count": 24,
   "metadata": {},
   "outputs": [
    {
     "name": "stdout",
     "output_type": "stream",
     "text": [
      "Mean absolute error: 1453994963.73\n",
      "Residual sum of squares (MSE): 4094083002122010624.00\n",
      "R2-score: 0.47\n"
     ]
    }
   ],
   "source": [
    "test_x = np.asanyarray(test[['Area']])\n",
    "test_y = np.asanyarray(test[['Price']])\n",
    "test_y_ = reg.predict(test_x)\n",
    "\n",
    "print(\"Mean absolute error: %.2f\" % np.mean(np.absolute(test_y_ - test_y)))\n",
    "print(\"Residual sum of squares (MSE): %.2f\" % np.mean((test_y_ - test_y) ** 2))\n",
    "print(\"R2-score: %.2f\" % r2_score(test_y, test_y_))"
   ]
  }
 ],
 "metadata": {
  "kernelspec": {
   "display_name": "Python 3",
   "language": "python",
   "name": "python3"
  },
  "language_info": {
   "codemirror_mode": {
    "name": "ipython",
    "version": 3
   },
   "file_extension": ".py",
   "mimetype": "text/x-python",
   "name": "python",
   "nbconvert_exporter": "python",
   "pygments_lexer": "ipython3",
   "version": "3.11.4"
  },
  "orig_nbformat": 4
 },
 "nbformat": 4,
 "nbformat_minor": 2
}
